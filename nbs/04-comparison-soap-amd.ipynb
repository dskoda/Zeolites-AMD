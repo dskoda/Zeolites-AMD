{
 "cells": [
  {
   "cell_type": "code",
   "execution_count": 1,
   "id": "7de8e25c",
   "metadata": {},
   "outputs": [],
   "source": [
    "import tqdm\n",
    "import json\n",
    "import random\n",
    "import itertools\n",
    "import numpy as np\n",
    "import pandas as pd\n",
    "import seaborn as sns\n",
    "from matplotlib import cm\n",
    "import matplotlib.pyplot as plt\n",
    "\n",
    "import warnings\n",
    "warnings.filterwarnings('ignore')\n",
    "\n",
    "from zeo_amd.plotting import savefig\n",
    "\n",
    "plt.style.use(\"jupyter\")"
   ]
  },
  {
   "cell_type": "markdown",
   "id": "6f1d31a0",
   "metadata": {},
   "source": [
    "## Loading the data\n",
    "\n",
    "We are going to load the data for the hyperparameter search of a balanced classifier."
   ]
  },
  {
   "cell_type": "code",
   "execution_count": 2,
   "id": "a91ea0da",
   "metadata": {},
   "outputs": [],
   "source": [
    "COLUMNS = [\n",
    "    \"label\", 'n_pos', 'n_neg', 'val_accuracy', 'val_precision',\n",
    "    'val_recall', 'val_F1-score', 'val_roc_auc', 'val_pr_auc',\n",
    "    'test_accuracy', 'test_precision', 'test_recall', 'test_F1-score',\n",
    "    'test_roc_auc', 'test_pr_auc', \"classifier\", \"params_str\"\n",
    "]"
   ]
  },
  {
   "cell_type": "code",
   "execution_count": 3,
   "id": "07fd2188",
   "metadata": {},
   "outputs": [],
   "source": [
    "amd = pd.read_json(\"../data/hparams_rnd_balanced.json\")\n",
    "\n",
    "amd[\"params_str\"] = amd[\"params\"].apply(json.dumps)\n",
    "amd = amd.loc[amd[\"classifier\"] == \"XGBClassifier\"]"
   ]
  },
  {
   "cell_type": "code",
   "execution_count": 4,
   "id": "b77b4416",
   "metadata": {},
   "outputs": [],
   "source": [
    "mean_amd = (amd\n",
    "    .groupby([\"label\", \"classifier\", \"params_str\"])\n",
    "    .mean()\n",
    "    .reset_index()\n",
    ")\n",
    "\n",
    "mean_amd = mean_amd.drop([\n",
    "    \"run\", \"n_pos\", \"n_neg\", \"seed\",\n",
    "    \"params_index\",\n",
    "], axis=1)\n",
    "\n",
    "std_amd = (amd\n",
    "    .groupby([\"label\", \"classifier\", \"params_str\"])\n",
    "    .std()\n",
    "    .reset_index()\n",
    ")\n",
    "\n",
    "std_amd = std_amd.drop([\n",
    "    \"run\", \"n_pos\", \"n_neg\", \"seed\",\n",
    "    \"params_index\",\n",
    "], axis=1)"
   ]
  },
  {
   "cell_type": "code",
   "execution_count": 5,
   "id": "0fcf8ccc",
   "metadata": {},
   "outputs": [],
   "source": [
    "soap = pd.read_json(\"../data/hparams_rnd_soap_balanced.json\")\n",
    "\n",
    "soap[\"params_str\"] = soap[\"params\"].apply(json.dumps)\n",
    "soap = soap.loc[soap[\"classifier\"] == \"XGBClassifier\"]"
   ]
  },
  {
   "cell_type": "code",
   "execution_count": 6,
   "id": "315d8a62",
   "metadata": {},
   "outputs": [],
   "source": [
    "mean_soap = (soap\n",
    "    .groupby([\"label\", \"classifier\", \"params_str\"])\n",
    "    .mean()\n",
    "    .reset_index()\n",
    ")\n",
    "\n",
    "mean_soap = mean_soap.drop([\n",
    "    \"run\", \"n_pos\", \"n_neg\", \"seed\",\n",
    "    \"params_index\",\n",
    "], axis=1)\n",
    "\n",
    "std_soap = (soap\n",
    "    .groupby([\"label\", \"classifier\", \"params_str\"])\n",
    "    .std()\n",
    "    .reset_index()\n",
    ")\n",
    "\n",
    "std_soap = std_soap.drop([\n",
    "    \"run\", \"n_pos\", \"n_neg\", \"seed\",\n",
    "    \"params_index\",\n",
    "], axis=1)"
   ]
  },
  {
   "cell_type": "markdown",
   "id": "15d4e8ab",
   "metadata": {},
   "source": [
    "## Comparing SOAP and AMD in terms of the best classifiers that can be achieved"
   ]
  },
  {
   "cell_type": "code",
   "execution_count": 7,
   "id": "041380d9",
   "metadata": {},
   "outputs": [],
   "source": [
    "def create_table(mean, std):\n",
    "    mean = np.round(mean, 2).applymap(lambda x: f\"{x:.2f}\")\n",
    "    std = np.round(std, 2).applymap(lambda x: f\"{x:.2f}\")\n",
    "    \n",
    "    return mean + \" ± \" + std\n",
    "\n",
    "TEST_COLS = [c for c in COLUMNS if c.startswith(\"test_\")]"
   ]
  },
  {
   "cell_type": "code",
   "execution_count": 8,
   "id": "44e30ff9",
   "metadata": {},
   "outputs": [],
   "source": [
    "params = '{\"colsample_bytree\": 0.5, \"learning_rate\": 0.1, \"max_depth\": 4, \"min_child_weight\": 1, \"n_estimators\": 200, \"subsample\": 0.5}'"
   ]
  },
  {
   "cell_type": "code",
   "execution_count": 9,
   "id": "ba4f8e7f",
   "metadata": {},
   "outputs": [],
   "source": [
    "COLS = [\"label\", \"test_roc_auc\", \"test_pr_auc\"]"
   ]
  },
  {
   "cell_type": "code",
   "execution_count": 10,
   "id": "7f046144",
   "metadata": {},
   "outputs": [],
   "source": [
    "best_soap_idx = mean_soap.groupby(\"label\").idxmax()\n",
    "best_soap_mean = mean_soap.loc[best_soap_idx[\"val_roc_auc\"]].drop([\"classifier\", \"params_str\"], axis=1)[COLS]\n",
    "best_soap_std = std_soap.loc[best_soap_mean.index][COLS].set_index(\"label\")\n",
    "best_soap_mean = best_soap_mean.set_index(\"label\")\n",
    "\n",
    "best_amd_idx = mean_amd.groupby(\"label\").idxmax()\n",
    "best_amd_mean = mean_amd.loc[best_amd_idx[\"val_roc_auc\"]].drop([\"classifier\", \"params_str\"], axis=1)[COLS]\n",
    "best_amd_std = std_amd.loc[best_amd_mean.index][COLS].set_index(\"label\")\n",
    "best_amd_mean = best_amd_mean.set_index(\"label\")"
   ]
  },
  {
   "cell_type": "code",
   "execution_count": 11,
   "id": "1589d026",
   "metadata": {},
   "outputs": [],
   "source": [
    "table_amd = create_table(best_amd_mean, best_amd_std)\n",
    "table_amd.columns = [\"amd_\" + c for c in table_amd.columns]\n",
    "\n",
    "table_soap = create_table(best_soap_mean, best_soap_std)\n",
    "table_soap.columns = [\"soap_\" + c for c in table_soap.columns]"
   ]
  },
  {
   "cell_type": "code",
   "execution_count": 12,
   "id": "c37f6471",
   "metadata": {},
   "outputs": [],
   "source": [
    "ORDER_COLS = [\"amd_test_roc_auc\", \"soap_test_roc_auc\", \"amd_test_pr_auc\", \"soap_test_pr_auc\"]\n",
    "table = pd.concat([table_amd, table_soap], axis=1)\n",
    "table = table[ORDER_COLS]"
   ]
  },
  {
   "cell_type": "code",
   "execution_count": 13,
   "id": "de4ac6b6",
   "metadata": {},
   "outputs": [
    {
     "data": {
      "text/html": [
       "<div>\n",
       "<style scoped>\n",
       "    .dataframe tbody tr th:only-of-type {\n",
       "        vertical-align: middle;\n",
       "    }\n",
       "\n",
       "    .dataframe tbody tr th {\n",
       "        vertical-align: top;\n",
       "    }\n",
       "\n",
       "    .dataframe thead th {\n",
       "        text-align: right;\n",
       "    }\n",
       "</style>\n",
       "<table border=\"1\" class=\"dataframe\">\n",
       "  <thead>\n",
       "    <tr style=\"text-align: right;\">\n",
       "      <th></th>\n",
       "      <th>amd_test_roc_auc</th>\n",
       "      <th>soap_test_roc_auc</th>\n",
       "      <th>amd_test_pr_auc</th>\n",
       "      <th>soap_test_pr_auc</th>\n",
       "    </tr>\n",
       "    <tr>\n",
       "      <th>label</th>\n",
       "      <th></th>\n",
       "      <th></th>\n",
       "      <th></th>\n",
       "      <th></th>\n",
       "    </tr>\n",
       "  </thead>\n",
       "  <tbody>\n",
       "    <tr>\n",
       "      <th>Al</th>\n",
       "      <td>0.90 ± 0.04</td>\n",
       "      <td>0.83 ± 0.02</td>\n",
       "      <td>0.87 ± 0.04</td>\n",
       "      <td>0.82 ± 0.04</td>\n",
       "    </tr>\n",
       "    <tr>\n",
       "      <th>B</th>\n",
       "      <td>0.75 ± 0.18</td>\n",
       "      <td>0.74 ± 0.20</td>\n",
       "      <td>0.79 ± 0.18</td>\n",
       "      <td>0.78 ± 0.18</td>\n",
       "    </tr>\n",
       "    <tr>\n",
       "      <th>Be</th>\n",
       "      <td>0.80 ± 0.23</td>\n",
       "      <td>0.80 ± 0.21</td>\n",
       "      <td>0.86 ± 0.15</td>\n",
       "      <td>0.83 ± 0.20</td>\n",
       "    </tr>\n",
       "    <tr>\n",
       "      <th>Ca</th>\n",
       "      <td>0.61 ± 0.18</td>\n",
       "      <td>0.68 ± 0.20</td>\n",
       "      <td>0.69 ± 0.12</td>\n",
       "      <td>0.76 ± 0.14</td>\n",
       "    </tr>\n",
       "    <tr>\n",
       "      <th>Co</th>\n",
       "      <td>0.49 ± 0.25</td>\n",
       "      <td>0.49 ± 0.20</td>\n",
       "      <td>0.55 ± 0.20</td>\n",
       "      <td>0.58 ± 0.19</td>\n",
       "    </tr>\n",
       "    <tr>\n",
       "      <th>F</th>\n",
       "      <td>0.77 ± 0.12</td>\n",
       "      <td>0.73 ± 0.12</td>\n",
       "      <td>0.81 ± 0.11</td>\n",
       "      <td>0.76 ± 0.10</td>\n",
       "    </tr>\n",
       "    <tr>\n",
       "      <th>Ga</th>\n",
       "      <td>0.59 ± 0.25</td>\n",
       "      <td>0.77 ± 0.16</td>\n",
       "      <td>0.58 ± 0.22</td>\n",
       "      <td>0.81 ± 0.12</td>\n",
       "    </tr>\n",
       "    <tr>\n",
       "      <th>Ge</th>\n",
       "      <td>0.73 ± 0.08</td>\n",
       "      <td>0.73 ± 0.13</td>\n",
       "      <td>0.72 ± 0.09</td>\n",
       "      <td>0.73 ± 0.13</td>\n",
       "    </tr>\n",
       "    <tr>\n",
       "      <th>K</th>\n",
       "      <td>0.71 ± 0.15</td>\n",
       "      <td>0.67 ± 0.09</td>\n",
       "      <td>0.74 ± 0.15</td>\n",
       "      <td>0.66 ± 0.09</td>\n",
       "    </tr>\n",
       "    <tr>\n",
       "      <th>Mg</th>\n",
       "      <td>0.76 ± 0.14</td>\n",
       "      <td>0.49 ± 0.30</td>\n",
       "      <td>0.76 ± 0.18</td>\n",
       "      <td>0.55 ± 0.24</td>\n",
       "    </tr>\n",
       "    <tr>\n",
       "      <th>Na</th>\n",
       "      <td>0.70 ± 0.06</td>\n",
       "      <td>0.74 ± 0.08</td>\n",
       "      <td>0.66 ± 0.07</td>\n",
       "      <td>0.71 ± 0.09</td>\n",
       "    </tr>\n",
       "    <tr>\n",
       "      <th>P</th>\n",
       "      <td>0.68 ± 0.07</td>\n",
       "      <td>0.70 ± 0.08</td>\n",
       "      <td>0.65 ± 0.08</td>\n",
       "      <td>0.67 ± 0.08</td>\n",
       "    </tr>\n",
       "    <tr>\n",
       "      <th>Si</th>\n",
       "      <td>0.97 ± 0.02</td>\n",
       "      <td>0.93 ± 0.03</td>\n",
       "      <td>0.97 ± 0.02</td>\n",
       "      <td>0.91 ± 0.06</td>\n",
       "    </tr>\n",
       "    <tr>\n",
       "      <th>Zn</th>\n",
       "      <td>0.58 ± 0.29</td>\n",
       "      <td>0.56 ± 0.25</td>\n",
       "      <td>0.63 ± 0.23</td>\n",
       "      <td>0.64 ± 0.18</td>\n",
       "    </tr>\n",
       "  </tbody>\n",
       "</table>\n",
       "</div>"
      ],
      "text/plain": [
       "      amd_test_roc_auc soap_test_roc_auc amd_test_pr_auc soap_test_pr_auc\n",
       "label                                                                    \n",
       "Al         0.90 ± 0.04       0.83 ± 0.02     0.87 ± 0.04      0.82 ± 0.04\n",
       "B          0.75 ± 0.18       0.74 ± 0.20     0.79 ± 0.18      0.78 ± 0.18\n",
       "Be         0.80 ± 0.23       0.80 ± 0.21     0.86 ± 0.15      0.83 ± 0.20\n",
       "Ca         0.61 ± 0.18       0.68 ± 0.20     0.69 ± 0.12      0.76 ± 0.14\n",
       "Co         0.49 ± 0.25       0.49 ± 0.20     0.55 ± 0.20      0.58 ± 0.19\n",
       "F          0.77 ± 0.12       0.73 ± 0.12     0.81 ± 0.11      0.76 ± 0.10\n",
       "Ga         0.59 ± 0.25       0.77 ± 0.16     0.58 ± 0.22      0.81 ± 0.12\n",
       "Ge         0.73 ± 0.08       0.73 ± 0.13     0.72 ± 0.09      0.73 ± 0.13\n",
       "K          0.71 ± 0.15       0.67 ± 0.09     0.74 ± 0.15      0.66 ± 0.09\n",
       "Mg         0.76 ± 0.14       0.49 ± 0.30     0.76 ± 0.18      0.55 ± 0.24\n",
       "Na         0.70 ± 0.06       0.74 ± 0.08     0.66 ± 0.07      0.71 ± 0.09\n",
       "P          0.68 ± 0.07       0.70 ± 0.08     0.65 ± 0.08      0.67 ± 0.08\n",
       "Si         0.97 ± 0.02       0.93 ± 0.03     0.97 ± 0.02      0.91 ± 0.06\n",
       "Zn         0.58 ± 0.29       0.56 ± 0.25     0.63 ± 0.23      0.64 ± 0.18"
      ]
     },
     "execution_count": 13,
     "metadata": {},
     "output_type": "execute_result"
    }
   ],
   "source": [
    "table"
   ]
  },
  {
   "cell_type": "code",
   "execution_count": 14,
   "id": "eba338b3",
   "metadata": {},
   "outputs": [
    {
     "name": "stdout",
     "output_type": "stream",
     "text": [
      "\\begin{tabular}{lllll}\n",
      "\\toprule\n",
      "{} & amd\\_test\\_roc\\_auc & soap\\_test\\_roc\\_auc & amd\\_test\\_pr\\_auc & soap\\_test\\_pr\\_auc \\\\\n",
      "label &                  &                   &                 &                  \\\\\n",
      "\\midrule\n",
      "Al    &      0.90 ± 0.04 &       0.83 ± 0.02 &     0.87 ± 0.04 &      0.82 ± 0.04 \\\\\n",
      "B     &      0.75 ± 0.18 &       0.74 ± 0.20 &     0.79 ± 0.18 &      0.78 ± 0.18 \\\\\n",
      "Be    &      0.80 ± 0.23 &       0.80 ± 0.21 &     0.86 ± 0.15 &      0.83 ± 0.20 \\\\\n",
      "Ca    &      0.61 ± 0.18 &       0.68 ± 0.20 &     0.69 ± 0.12 &      0.76 ± 0.14 \\\\\n",
      "Co    &      0.49 ± 0.25 &       0.49 ± 0.20 &     0.55 ± 0.20 &      0.58 ± 0.19 \\\\\n",
      "F     &      0.77 ± 0.12 &       0.73 ± 0.12 &     0.81 ± 0.11 &      0.76 ± 0.10 \\\\\n",
      "Ga    &      0.59 ± 0.25 &       0.77 ± 0.16 &     0.58 ± 0.22 &      0.81 ± 0.12 \\\\\n",
      "Ge    &      0.73 ± 0.08 &       0.73 ± 0.13 &     0.72 ± 0.09 &      0.73 ± 0.13 \\\\\n",
      "K     &      0.71 ± 0.15 &       0.67 ± 0.09 &     0.74 ± 0.15 &      0.66 ± 0.09 \\\\\n",
      "Mg    &      0.76 ± 0.14 &       0.49 ± 0.30 &     0.76 ± 0.18 &      0.55 ± 0.24 \\\\\n",
      "Na    &      0.70 ± 0.06 &       0.74 ± 0.08 &     0.66 ± 0.07 &      0.71 ± 0.09 \\\\\n",
      "P     &      0.68 ± 0.07 &       0.70 ± 0.08 &     0.65 ± 0.08 &      0.67 ± 0.08 \\\\\n",
      "Si    &      0.97 ± 0.02 &       0.93 ± 0.03 &     0.97 ± 0.02 &      0.91 ± 0.06 \\\\\n",
      "Zn    &      0.58 ± 0.29 &       0.56 ± 0.25 &     0.63 ± 0.23 &      0.64 ± 0.18 \\\\\n",
      "\\bottomrule\n",
      "\\end{tabular}\n",
      "\n"
     ]
    }
   ],
   "source": [
    "print(table.to_latex())"
   ]
  }
 ],
 "metadata": {
  "kernelspec": {
   "display_name": "zeo",
   "language": "python",
   "name": "zeo"
  },
  "language_info": {
   "codemirror_mode": {
    "name": "ipython",
    "version": 3
   },
   "file_extension": ".py",
   "mimetype": "text/x-python",
   "name": "python",
   "nbconvert_exporter": "python",
   "pygments_lexer": "ipython3",
   "version": "3.9.13"
  }
 },
 "nbformat": 4,
 "nbformat_minor": 5
}
