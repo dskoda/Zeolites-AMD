{
 "cells": [
  {
   "cell_type": "markdown",
   "metadata": {},
   "source": [
    "## Data cleaning\n",
    "\n",
    "In this notebook, we clean the given data. Three input datasets are used:\n",
    "\n",
    " - `dm` is the distance matrix between zeolites using PDD and AMD.\n",
    " - `synth` is the set of synthesis conditions from the literature.\n",
    " - `feat` is the set of features in zeolites"
   ]
  },
  {
   "cell_type": "code",
   "execution_count": 5,
   "metadata": {},
   "outputs": [],
   "source": [
    "import itertools\n",
    "import pandas as pd\n",
    "import numpy as np\n",
    "from sklearn.preprocessing import LabelEncoder"
   ]
  },
  {
   "cell_type": "code",
   "execution_count": 6,
   "metadata": {},
   "outputs": [],
   "source": [
    "dm = pd.read_csv(\"../data/iza_dm.csv\", index_col=0)\n",
    "synth = pd.read_excel(\"../data/synthesis-complete.xlsx\")\n",
    "feat = pd.read_csv(\"../data/zeo-features.csv\", index_col=0)"
   ]
  },
  {
   "cell_type": "code",
   "execution_count": 10,
   "metadata": {},
   "outputs": [],
   "source": [
    "def clean_name(x: str):\n",
    "    if x in [np.nan, ' ']:\n",
    "        return \"\"\n",
    "    \n",
    "    return x.strip()\n",
    "\n",
    "def clean_iza(x: str):\n",
    "    x = x.replace(\"*\", \"\")\n",
    "    if x.startswith(\"-\"):\n",
    "        x = x.replace(\"-\", \"\")\n",
    "    \n",
    "    return x"
   ]
  },
  {
   "cell_type": "code",
   "execution_count": 11,
   "metadata": {},
   "outputs": [],
   "source": [
    "SYNTH_COLS = [f\"syn{n}\" for n in range(1, 9)]\n",
    "conditions = synth[SYNTH_COLS].values.reshape(-1).tolist()\n",
    "conditions = set(conditions)\n",
    "conditions = {x.strip() for x in conditions if x not in [np.nan, ' ']}"
   ]
  },
  {
   "cell_type": "code",
   "execution_count": 13,
   "metadata": {},
   "outputs": [],
   "source": [
    "conditions_count = {x: 0 for x in conditions}\n",
    "\n",
    "for _, row in synth[SYNTH_COLS].iterrows():\n",
    "    v = row.dropna().values.tolist()\n",
    "    for element in v:\n",
    "        name = clean_name(element)\n",
    "        if name in conditions_count:\n",
    "            conditions_count[name] += 1"
   ]
  },
  {
   "cell_type": "code",
   "execution_count": 24,
   "metadata": {},
   "outputs": [],
   "source": [
    "ccount = pd.Series(conditions_count)"
   ]
  },
  {
   "cell_type": "code",
   "execution_count": 25,
   "metadata": {},
   "outputs": [],
   "source": [
    "popular = ccount.loc[ccount >= 8].sort_values()"
   ]
  },
  {
   "cell_type": "code",
   "execution_count": 26,
   "metadata": {},
   "outputs": [],
   "source": [
    "new_columns = {}\n",
    "\n",
    "for i, row in synth[SYNTH_COLS].iterrows():\n",
    "    elements = [clean_name(x) for x in row.dropna().values.tolist()]\n",
    "    new_columns[i] = {\n",
    "        x: x in elements\n",
    "        for x in popular.index\n",
    "    }"
   ]
  },
  {
   "cell_type": "code",
   "execution_count": 27,
   "metadata": {},
   "outputs": [],
   "source": [
    "new = pd.DataFrame(new_columns).T\n",
    "new = new[sorted(new.columns)]"
   ]
  },
  {
   "cell_type": "code",
   "execution_count": 35,
   "metadata": {},
   "outputs": [
    {
     "name": "stderr",
     "output_type": "stream",
     "text": [
      "/var/folders/2q/s8z166bx6s99wf5prpd1d3q0001w6_/T/ipykernel_15371/2007044354.py:9: FutureWarning: The default value of numeric_only in DataFrameGroupBy.mean is deprecated. In a future version, numeric_only will default to False. Either specify numeric_only or select only columns which should be valid for the function.\n",
      "  synfracs = df.groupby(\"Code\").mean()[new.columns]\n"
     ]
    }
   ],
   "source": [
    "df = synth.drop([\n",
    "    \"sda\", \"formula\", \"FD\",\"max_ring_size\", \"channel_dim\",\n",
    "    \"inc_diameter\", \"inc_vol\", \"accvol\", \"comp\", \"Num N\", \"Num P\"\n",
    "] + SYNTH_COLS, axis=1)\n",
    "\n",
    "df = pd.concat([df, new], axis=1)\n",
    "df[\"Code\"] = df[\"Code\"].apply(clean_iza)\n",
    "\n",
    "synfracs = df.groupby(\"Code\").mean()[new.columns]"
   ]
  },
  {
   "cell_type": "code",
   "execution_count": 36,
   "metadata": {},
   "outputs": [],
   "source": [
    "synfracs.to_csv(\"../data/synthesis_fraction.csv\")"
   ]
  }
 ],
 "metadata": {
  "kernelspec": {
   "display_name": "zeo",
   "language": "python",
   "name": "zeo"
  },
  "language_info": {
   "codemirror_mode": {
    "name": "ipython",
    "version": 3
   },
   "file_extension": ".py",
   "mimetype": "text/x-python",
   "name": "python",
   "nbconvert_exporter": "python",
   "pygments_lexer": "ipython3",
   "version": "3.9.13"
  },
  "varInspector": {
   "cols": {
    "lenName": 16,
    "lenType": 16,
    "lenVar": 40
   },
   "kernels_config": {
    "python": {
     "delete_cmd_postfix": "",
     "delete_cmd_prefix": "del ",
     "library": "var_list.py",
     "varRefreshCmd": "print(var_dic_list())"
    },
    "r": {
     "delete_cmd_postfix": ") ",
     "delete_cmd_prefix": "rm(",
     "library": "var_list.r",
     "varRefreshCmd": "cat(var_dic_list()) "
    }
   },
   "types_to_exclude": [
    "module",
    "function",
    "builtin_function_or_method",
    "instance",
    "_Feature"
   ],
   "window_display": false
  }
 },
 "nbformat": 4,
 "nbformat_minor": 4
}
