{
 "cells": [
  {
   "cell_type": "markdown",
   "id": "6fb8f3e9",
   "metadata": {},
   "source": [
    "# Minimum spanning tree (MST) of IZA zeolites\n",
    "\n",
    "In this notebook, we will create the MST of IZA zeolites based on their AMD. The code to calculate the AMD is provided."
   ]
  },
  {
   "cell_type": "code",
   "execution_count": 1,
   "id": "e4848479",
   "metadata": {},
   "outputs": [],
   "source": [
    "import os\n",
    "import amd\n",
    "import pandas as pd\n",
    "import numpy as np"
   ]
  },
  {
   "cell_type": "markdown",
   "id": "fcc06c1a",
   "metadata": {},
   "source": [
    "## Calculation of the AMD"
   ]
  },
  {
   "cell_type": "code",
   "execution_count": 4,
   "id": "733719b7",
   "metadata": {},
   "outputs": [
    {
     "name": "stdout",
     "output_type": "stream",
     "text": [
      "CPU times: user 1.75 s, sys: 273 ms, total: 2.02 s\n",
      "Wall time: 1.84 s\n"
     ]
    }
   ],
   "source": [
    "%%time\n",
    "\n",
    "k = 100\n",
    "path = os.path.abspath('../dsets/iza_experimental')\n",
    "_dm = amd.compare(path, by='AMD', k=k)"
   ]
  },
  {
   "cell_type": "code",
   "execution_count": 3,
   "id": "54d8b925",
   "metadata": {},
   "outputs": [],
   "source": [
    "dm = _dm.copy()\n",
    "\n",
    "zeolites = [\n",
    "    name.strip(\".cif\")\n",
    "    for name in sorted(os.listdir(path))\n",
    "]\n",
    "\n",
    "dm.index = zeolites\n",
    "dm.columns = zeolites"
   ]
  },
  {
   "cell_type": "code",
   "execution_count": 4,
   "id": "624ff7d3",
   "metadata": {},
   "outputs": [
    {
     "data": {
      "text/plain": [
       "True"
      ]
     },
     "execution_count": 4,
     "metadata": {},
     "output_type": "execute_result"
    }
   ],
   "source": [
    "np.isclose(dm, pd.read_csv(\"../data/iza_dm.csv\", index_col=0)).all()"
   ]
  }
 ],
 "metadata": {
  "kernelspec": {
   "display_name": "zeo",
   "language": "python",
   "name": "zeo"
  },
  "language_info": {
   "codemirror_mode": {
    "name": "ipython",
    "version": 3
   },
   "file_extension": ".py",
   "mimetype": "text/x-python",
   "name": "python",
   "nbconvert_exporter": "python",
   "pygments_lexer": "ipython3",
   "version": "3.9.13"
  }
 },
 "nbformat": 4,
 "nbformat_minor": 5
}
