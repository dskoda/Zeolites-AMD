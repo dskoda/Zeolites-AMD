{
 "cells": [
  {
   "cell_type": "code",
   "execution_count": 1,
   "metadata": {},
   "outputs": [],
   "source": [
    "import os\n",
    "import tqdm\n",
    "import random\n",
    "import pickle\n",
    "import itertools\n",
    "import numpy as np\n",
    "import pandas as pd\n",
    "import networkx as nx\n",
    "import matplotlib.pyplot as plt\n",
    "import seaborn as sns\n",
    "from matplotlib import cm\n",
    "\n",
    "import shap\n",
    "import xgboost as xgb\n",
    "from scipy import stats\n",
    "from zeo_amd.classify import train_classifier, get_datasets, get_metrics, get_best_classifier\n",
    "from zeo_amd.plotting import savefig\n",
    "\n",
    "plt.style.use(\"jupyter\")"
   ]
  },
  {
   "cell_type": "code",
   "execution_count": 2,
   "metadata": {},
   "outputs": [],
   "source": [
    "dm = pd.read_csv(\"../data/iza_dm.csv\", index_col=0)\n",
    "\n",
    "xgb_file = \"../data/xgb_ensembles_hyp.pkl\"\n",
    "hyp = pd.read_csv(\"../data/hyp_dm.csv\", index_col=0)\n",
    "\n",
    "cols = sorted(list(set(hyp.columns) & set(dm.columns)))\n",
    "\n",
    "dm = dm.loc[cols, cols]\n",
    "hyp = hyp[cols]\n",
    "\n",
    "synth = pd.read_csv(\"../data/synthesis_fraction.csv\", index_col=0)\n",
    "synth = synth.loc[dm.index]\n",
    "hfeat = pd.read_csv(\"../data/hyp_features.csv\", index_col=0).set_index(\"id\")"
   ]
  },
  {
   "cell_type": "code",
   "execution_count": 3,
   "metadata": {},
   "outputs": [],
   "source": [
    "X = dm.values\n",
    "X_norm = (X - X.mean(0, keepdims=True)) / X.std(0, keepdims=True)"
   ]
  },
  {
   "cell_type": "markdown",
   "metadata": {},
   "source": [
    "## Training classifiers"
   ]
  },
  {
   "cell_type": "code",
   "execution_count": 12,
   "metadata": {},
   "outputs": [],
   "source": [
    "MIN_SYNTHESIS = 0.25\n",
    "NUM_ROUNDS = 100\n",
    "INORGANICS = ['Al', 'B', \"Be\", 'Ca', 'Co', 'F', 'Ga', 'Ge', 'K', 'Mg', 'Na', 'P', 'Si', 'Zn']"
   ]
  },
  {
   "cell_type": "code",
   "execution_count": 13,
   "metadata": {},
   "outputs": [],
   "source": [
    "if not os.path.exists(xgb_file):\n",
    "    ensemble = {}\n",
    "\n",
    "    for _label in INORGANICS:\n",
    "        y = (synth[_label] > MIN_SYNTHESIS).values\n",
    "\n",
    "        for n in range(NUM_ROUNDS):\n",
    "            clf = get_best_classifier()\n",
    "\n",
    "            X_train, X_test, y_train, y_test = get_datasets(\n",
    "                X, y, test_size=0.1, balanced=True, random_seed=143,\n",
    "            )\n",
    "\n",
    "            clf.fit(X_train, y_train)\n",
    "\n",
    "            ensemble[_label] = ensemble.get(_label, []) + [clf]\n",
    "\n",
    "        with open(xgb_file, \"wb\") as f:\n",
    "            pickle.dump(ensemble, f)"
   ]
  },
  {
   "cell_type": "markdown",
   "metadata": {},
   "source": [
    "## Obtaining the predictions of inorganic labels for all hypothetical zeolites"
   ]
  },
  {
   "cell_type": "code",
   "execution_count": 16,
   "metadata": {},
   "outputs": [],
   "source": [
    "with open(xgb_file, \"rb\") as f:\n",
    "    ensemble = pickle.load(f)"
   ]
  },
  {
   "cell_type": "code",
   "execution_count": 17,
   "metadata": {},
   "outputs": [
    {
     "name": "stderr",
     "output_type": "stream",
     "text": [
      "100%|████████████████████████████████████████████████████████████████████████████████████████████████████████████████████████████████████████████████████████████████████████████████████████████████████████████████| 14/14 [02:34<00:00, 11.06s/it]\n"
     ]
    }
   ],
   "source": [
    "predictions = {}\n",
    "\n",
    "for label, clf_list in tqdm.tqdm(ensemble.items()):\n",
    "    values = [\n",
    "        clf.predict(hyp.values)\n",
    "        for clf in clf_list\n",
    "    ]\n",
    "    predictions[label] = values"
   ]
  },
  {
   "cell_type": "code",
   "execution_count": 68,
   "metadata": {},
   "outputs": [],
   "source": [
    "mean_predictions = pd.DataFrame({\n",
    "    label: np.stack(preds).mean(0)\n",
    "    for label, preds in predictions.items()\n",
    "}, index=hyp.index)\n",
    "\n",
    "std_predictions = pd.DataFrame({\n",
    "    label: np.stack(preds).std(0)\n",
    "    for label, preds in predictions.items()\n",
    "}, index=hyp.index)"
   ]
  },
  {
   "cell_type": "code",
   "execution_count": 113,
   "metadata": {},
   "outputs": [],
   "source": [
    "mean_predictions.to_csv(\"../data/hyp_predictions.csv\")"
   ]
  },
  {
   "cell_type": "code",
   "execution_count": 38,
   "metadata": {},
   "outputs": [],
   "source": [
    "final = pd.concat([mean_predictions, hfeat], axis=1)"
   ]
  },
  {
   "cell_type": "markdown",
   "metadata": {},
   "source": [
    "## Filtering structures based on energy"
   ]
  },
  {
   "cell_type": "code",
   "execution_count": 110,
   "metadata": {},
   "outputs": [],
   "source": [
    "ex_Be = 261338\n",
    "\n",
    "_df = final.loc[\n",
    "    (final[\"Be\"] == 1)\n",
    "    & (final['density'] < 18)\n",
    "].sort_values(\"relative_energy\", ascending=False)"
   ]
  },
  {
   "cell_type": "code",
   "execution_count": 34,
   "metadata": {},
   "outputs": [],
   "source": [
    "ex_Ge = 210242\n",
    "ex_Na = 266841\n",
    "ex_K = 323245"
   ]
  },
  {
   "cell_type": "code",
   "execution_count": 60,
   "metadata": {},
   "outputs": [],
   "source": [
    "ex_max = 269415"
   ]
  },
  {
   "cell_type": "code",
   "execution_count": 86,
   "metadata": {},
   "outputs": [
    {
     "data": {
      "text/plain": [
       "Al                       1.0\n",
       "B                       0.07\n",
       "Be                      0.97\n",
       "Ca                      0.18\n",
       "Co                      0.65\n",
       "F                       0.35\n",
       "Ga                      0.51\n",
       "Ge                      0.58\n",
       "K                       0.11\n",
       "Mg                      0.62\n",
       "Na                      0.21\n",
       "P                        1.0\n",
       "Si                      0.04\n",
       "Zn                      0.48\n",
       "formula              O96Si48\n",
       "relative_energy    16.474716\n",
       "density            14.070536\n",
       "Name: 306823, dtype: object"
      ]
     },
     "execution_count": 86,
     "metadata": {},
     "output_type": "execute_result"
    }
   ],
   "source": [
    "final.loc[306823]"
   ]
  },
  {
   "cell_type": "markdown",
   "metadata": {},
   "source": [
    "## Example: comparing against LTA"
   ]
  },
  {
   "cell_type": "code",
   "execution_count": 115,
   "metadata": {},
   "outputs": [],
   "source": [
    "bad_LTA = 313030\n",
    "good_LTA = 308105"
   ]
  },
  {
   "cell_type": "code",
   "execution_count": 116,
   "metadata": {},
   "outputs": [],
   "source": [
    "_df = pd.concat([hyp, final], axis=1)\n",
    "_df = _df.sort_values(\"LTA\").iloc[:1000]"
   ]
  },
  {
   "cell_type": "code",
   "execution_count": 132,
   "metadata": {},
   "outputs": [
    {
     "data": {
      "image/png": "[encoded data removed]",
      "text/plain": [
       "<Figure size 300x525 with 1 Axes>"
      ]
     },
     "metadata": {},
     "output_type": "display_data"
    }
   ],
   "source": [
    "fig, ax = plt.subplots(figsize=(2, 3.5))\n",
    "\n",
    "ax.scatter(\n",
    "    _df[\"LTA\"],\n",
    "    _df[\"Si\"],\n",
    "    s=3,\n",
    "    c=\"#303030\",\n",
    "    alpha=0.5,\n",
    ")\n",
    "ax.scatter(\n",
    "    _df.loc[good_LTA, \"LTA\"],\n",
    "    _df.loc[good_LTA, \"Si\"],\n",
    "    c='g',\n",
    ")\n",
    "ax.scatter(\n",
    "    _df.loc[bad_LTA, \"LTA\"],\n",
    "    _df.loc[bad_LTA, \"Si\"],\n",
    "    c='r',\n",
    ")\n",
    "\n",
    "ax.set_xlabel(\"Distance to LTA (Å)\", fontsize=12)\n",
    "ax.set_ylabel(\"Prob. of Si-based synthesis\", fontsize=12)\n",
    "\n",
    "ax.set_xlim(0.1)\n",
    "\n",
    "savefig(fig, \"06-hyp-lta.pdf\")\n",
    "plt.show()"
   ]
  },
  {
   "cell_type": "code",
   "execution_count": 136,
   "metadata": {},
   "outputs": [
    {
     "data": {
      "text/plain": [
       "Al                 0.685714\n",
       "As                 0.000000\n",
       "B                  0.000000\n",
       "Be                 0.000000\n",
       "Ca                 0.000000\n",
       "Ce                 0.000000\n",
       "Cl                 0.014286\n",
       "Co                 0.021429\n",
       "Cr                 0.000000\n",
       "Cs                 0.000000\n",
       "Cu                 0.000000\n",
       "F                  0.628571\n",
       "Fe                 0.007143\n",
       "Ga                 0.057143\n",
       "Ge                 0.135714\n",
       "H2SO4              0.000000\n",
       "HNO3               0.000000\n",
       "K                  0.007143\n",
       "Li                 0.007143\n",
       "Mg                 0.007143\n",
       "Mn                 0.035714\n",
       "Na                 0.142857\n",
       "Ni                 0.007143\n",
       "P                  0.442857\n",
       "Rb                 0.000000\n",
       "S                  0.000000\n",
       "SO4                0.000000\n",
       "Si                 0.571429\n",
       "Sn                 0.000000\n",
       "Sr                 0.000000\n",
       "Te                 0.000000\n",
       "Ti                 0.007143\n",
       "V                  0.000000\n",
       "Zn                 0.014286\n",
       "ethanol            0.000000\n",
       "ethylene glycol    0.000000\n",
       "ethylenediamine    0.000000\n",
       "seed               0.057143\n",
       "Name: LTA, dtype: float64"
      ]
     },
     "execution_count": 136,
     "metadata": {},
     "output_type": "execute_result"
    }
   ],
   "source": [
    "synth.loc[\"LTA\"]"
   ]
  }
 ],
 "metadata": {
  "kernelspec": {
   "display_name": "zeo",
   "language": "python",
   "name": "zeo"
  },
  "language_info": {
   "codemirror_mode": {
    "name": "ipython",
    "version": 3
   },
   "file_extension": ".py",
   "mimetype": "text/x-python",
   "name": "python",
   "nbconvert_exporter": "python",
   "pygments_lexer": "ipython3",
   "version": "3.9.13"
  },
  "varInspector": {
   "cols": {
    "lenName": 16,
    "lenType": 16,
    "lenVar": 40
   },
   "kernels_config": {
    "python": {
     "delete_cmd_postfix": "",
     "delete_cmd_prefix": "del ",
     "library": "var_list.py",
     "varRefreshCmd": "print(var_dic_list())"
    },
    "r": {
     "delete_cmd_postfix": ") ",
     "delete_cmd_prefix": "rm(",
     "library": "var_list.r",
     "varRefreshCmd": "cat(var_dic_list()) "
    }
   },
   "types_to_exclude": [
    "module",
    "function",
    "builtin_function_or_method",
    "instance",
    "_Feature"
   ],
   "window_display": false
  }
 },
 "nbformat": 4,
 "nbformat_minor": 4
}
