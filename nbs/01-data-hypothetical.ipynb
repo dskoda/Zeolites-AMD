{
 "cells": [
  {
   "cell_type": "markdown",
   "id": "6fb8f3e9",
   "metadata": {},
   "source": [
    "# Data from hypothetical databases\n",
    "\n",
    "In this notebook, we will parse the metadata from the hypothetical zeolite structure database"
   ]
  },
  {
   "cell_type": "code",
   "execution_count": 13,
   "id": "e4848479",
   "metadata": {},
   "outputs": [],
   "source": [
    "import os\n",
    "import tqdm\n",
    "import pandas as pd\n",
    "import numpy as np\n",
    "from ase import atoms, visualize, db"
   ]
  },
  {
   "cell_type": "code",
   "execution_count": 2,
   "id": "62c3e00a",
   "metadata": {},
   "outputs": [],
   "source": [
    "d = db.connect(\"../dsets/DEEM_NNPscan.db\")"
   ]
  },
  {
   "cell_type": "code",
   "execution_count": 14,
   "id": "b57b8edd",
   "metadata": {},
   "outputs": [
    {
     "name": "stderr",
     "output_type": "stream",
     "text": [
      "331171it [01:00, 5497.48it/s]\n"
     ]
    }
   ],
   "source": [
    "columns = ['id', 'formula', 'relative_energy', \"density\"]\n",
    "\n",
    "\n",
    "data = []\n",
    "for row in tqdm.tqdm(d.select()):\n",
    "    data.append([row[col] for col in columns])\n",
    "\n",
    "df = pd.DataFrame(data, columns=columns)"
   ]
  },
  {
   "cell_type": "code",
   "execution_count": 15,
   "id": "6a000d0c",
   "metadata": {},
   "outputs": [],
   "source": [
    "df.to_csv(\"../data/hyp_features.csv\")"
   ]
  },
  {
   "cell_type": "markdown",
   "id": "4fef75ab",
   "metadata": {},
   "source": [
    "## IZA Database from NNPscan"
   ]
  },
  {
   "cell_type": "code",
   "execution_count": 16,
   "id": "02b7ad4a",
   "metadata": {},
   "outputs": [],
   "source": [
    "d = db.connect(\"../dsets/IZA_NNPscan.db\")"
   ]
  },
  {
   "cell_type": "code",
   "execution_count": 22,
   "id": "f2632c7d",
   "metadata": {},
   "outputs": [
    {
     "name": "stderr",
     "output_type": "stream",
     "text": [
      "236it [00:00, 3887.72it/s]\n"
     ]
    }
   ],
   "source": [
    "columns = ['id', \"iza_code\", 'relative_energy', \"density\"]\n",
    "\n",
    "data = []\n",
    "for row in tqdm.tqdm(d.select()):\n",
    "    data.append([row[col] for col in columns])\n",
    "\n",
    "df = pd.DataFrame(data, columns=columns)"
   ]
  },
  {
   "cell_type": "code",
   "execution_count": 23,
   "id": "34f889dc",
   "metadata": {},
   "outputs": [],
   "source": [
    "df.to_csv(\"../data/iza_nnpscan_features.csv\")"
   ]
  }
 ],
 "metadata": {
  "kernelspec": {
   "display_name": "zeo",
   "language": "python",
   "name": "zeo"
  },
  "language_info": {
   "codemirror_mode": {
    "name": "ipython",
    "version": 3
   },
   "file_extension": ".py",
   "mimetype": "text/x-python",
   "name": "python",
   "nbconvert_exporter": "python",
   "pygments_lexer": "ipython3",
   "version": "3.9.13"
  }
 },
 "nbformat": 4,
 "nbformat_minor": 5
}
