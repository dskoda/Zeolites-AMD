{
 "cells": [
  {
   "cell_type": "markdown",
   "id": "6fb8f3e9",
   "metadata": {},
   "source": [
    "# Calculating SOAP descriptors for zeolites\n",
    "\n",
    "In this notebook, we will calculate the SOAP descriptors for IZA zeolites using the package `dscribe`."
   ]
  },
  {
   "cell_type": "code",
   "execution_count": 1,
   "id": "e4848479",
   "metadata": {},
   "outputs": [],
   "source": [
    "import os\n",
    "import warnings\n",
    "import pandas as pd\n",
    "import numpy as np\n",
    "import amd\n",
    "from ase.io import read\n",
    "from dscribe.descriptors import SOAP\n",
    "\n",
    "warnings.filterwarnings(\"ignore\")"
   ]
  },
  {
   "cell_type": "markdown",
   "id": "fcc06c1a",
   "metadata": {},
   "source": [
    "## Calculation of the SOAP descriptors"
   ]
  },
  {
   "cell_type": "code",
   "execution_count": 2,
   "id": "00973b93-f033-4ed8-b35a-782706deafcc",
   "metadata": {},
   "outputs": [],
   "source": [
    "species = [\"Si\", \"O\"]\n",
    "r_cut = 6.0\n",
    "n_max = 8\n",
    "l_max = 6\n",
    "\n",
    "# Setting up the SOAP descriptor\n",
    "soap = SOAP(\n",
    "    species=species,\n",
    "    periodic=True,\n",
    "    r_cut=r_cut,\n",
    "    n_max=n_max,\n",
    "    l_max=l_max,\n",
    "    average=\"inner\",\n",
    ")"
   ]
  },
  {
   "cell_type": "code",
   "execution_count": 10,
   "id": "733719b7",
   "metadata": {},
   "outputs": [],
   "source": [
    "path = os.path.abspath('../dsets/iza_experimental')\n",
    "files = sorted([f for f in os.listdir(path) if f.endswith(\".cif\")])"
   ]
  },
  {
   "cell_type": "markdown",
   "id": "6ffb7a6f",
   "metadata": {},
   "source": [
    "## Timing of SOAP vectors + I/O by ASE"
   ]
  },
  {
   "cell_type": "code",
   "execution_count": 12,
   "id": "0b7fba85-33f7-4b5d-8863-6673c57c4524",
   "metadata": {},
   "outputs": [
    {
     "name": "stdout",
     "output_type": "stream",
     "text": [
      "19.1 s ± 387 ms per loop (mean ± std. dev. of 7 runs, 1 loop each)\n"
     ]
    }
   ],
   "source": [
    "%%timeit\n",
    "\n",
    "soap_vecs = []\n",
    "for f in files:\n",
    "    atoms = read(os.path.join(path, f))\n",
    "    soap_vecs.append(soap.create(atoms))\n",
    "    \n",
    "soap_vecs = np.array(soap_vecs)\n",
    "\n",
    "dotprod = (soap_vecs @ soap_vecs.T)\n",
    "norms = np.diag(dotprod)\n",
    "kernel = dotprod / np.sqrt(norms.reshape(-1, 1) * norms.reshape(1, -1))\n",
    "dm = np.sqrt(2 - 2 * kernel)"
   ]
  },
  {
   "cell_type": "markdown",
   "id": "609b3d42",
   "metadata": {},
   "source": [
    "## Timing of creating SOAP vectors without the I/O from ASE"
   ]
  },
  {
   "cell_type": "code",
   "execution_count": 14,
   "id": "429dbcc3",
   "metadata": {},
   "outputs": [],
   "source": [
    "dset = [\n",
    "    read(os.path.join(path, f))\n",
    "    for f in files\n",
    "]"
   ]
  },
  {
   "cell_type": "code",
   "execution_count": 15,
   "id": "cb095c45",
   "metadata": {},
   "outputs": [
    {
     "name": "stdout",
     "output_type": "stream",
     "text": [
      "5.79 s ± 36 ms per loop (mean ± std. dev. of 7 runs, 1 loop each)\n"
     ]
    }
   ],
   "source": [
    "%%timeit\n",
    "\n",
    "soap_vecs = []\n",
    "for atoms in dset:\n",
    "    soap_vecs.append(soap.create(atoms))\n",
    "    \n",
    "soap_vecs = np.array(soap_vecs)\n",
    "\n",
    "dotprod = (soap_vecs @ soap_vecs.T)\n",
    "norms = np.diag(dotprod)\n",
    "kernel = dotprod / np.sqrt(norms.reshape(-1, 1) * norms.reshape(1, -1))\n",
    "dm = np.sqrt(2 - 2 * kernel)"
   ]
  },
  {
   "cell_type": "markdown",
   "id": "dabb2393",
   "metadata": {},
   "source": [
    "## Calculation of AMD"
   ]
  },
  {
   "cell_type": "code",
   "execution_count": 13,
   "id": "3d101d15",
   "metadata": {},
   "outputs": [
    {
     "name": "stdout",
     "output_type": "stream",
     "text": [
      "1.81 s ± 11.7 ms per loop (mean ± std. dev. of 7 runs, 1 loop each)\n"
     ]
    }
   ],
   "source": [
    "%%timeit\n",
    "\n",
    "k = 100\n",
    "path = os.path.abspath('../dsets/iza_experimental')\n",
    "_dm = amd.compare(path, by='AMD', k=k)"
   ]
  }
 ],
 "metadata": {
  "kernelspec": {
   "display_name": "zeo",
   "language": "python",
   "name": "zeo"
  },
  "language_info": {
   "codemirror_mode": {
    "name": "ipython",
    "version": 3
   },
   "file_extension": ".py",
   "mimetype": "text/x-python",
   "name": "python",
   "nbconvert_exporter": "python",
   "pygments_lexer": "ipython3",
   "version": "3.9.13"
  }
 },
 "nbformat": 4,
 "nbformat_minor": 5
}
