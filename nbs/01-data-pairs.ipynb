{
 "cells": [
  {
   "cell_type": "markdown",
   "id": "27a2994c",
   "metadata": {},
   "source": [
    "## Analysis of pairs of AMD zeolites"
   ]
  },
  {
   "cell_type": "code",
   "execution_count": 2,
   "id": "e91abbbd",
   "metadata": {},
   "outputs": [],
   "source": [
    "import os\n",
    "import numpy as np\n",
    "import pandas as pd\n",
    "import matplotlib.pyplot as plt"
   ]
  },
  {
   "cell_type": "code",
   "execution_count": 3,
   "id": "07cd1ad1",
   "metadata": {},
   "outputs": [],
   "source": [
    "exp = pd.read_csv(\"../data/iza_dm.csv\", index_col=0).sort_index()\n",
    "efeat = pd.read_csv(\"../data/iza_features.csv\", index_col=0).sort_index()"
   ]
  },
  {
   "cell_type": "code",
   "execution_count": 5,
   "id": "e043a508",
   "metadata": {},
   "outputs": [
    {
     "data": {
      "text/plain": [
       "0.6392557909519585"
      ]
     },
     "execution_count": 5,
     "metadata": {},
     "output_type": "execute_result"
    }
   ],
   "source": [
    "exp.loc[\"SOD\", \"LTA\"]"
   ]
  },
  {
   "cell_type": "code",
   "execution_count": 9,
   "id": "9f3f4c9d",
   "metadata": {},
   "outputs": [
    {
     "data": {
      "text/plain": [
       "SOD    0.000000\n",
       "FRA    0.196806\n",
       "PTT    0.299524\n",
       "DOH    0.305141\n",
       "LOS    0.315419\n",
       "Name: SOD, dtype: float64"
      ]
     },
     "execution_count": 9,
     "metadata": {},
     "output_type": "execute_result"
    }
   ],
   "source": [
    "exp[\"SOD\"].sort_values().iloc[:5]"
   ]
  },
  {
   "cell_type": "code",
   "execution_count": 11,
   "id": "3f50d74a",
   "metadata": {},
   "outputs": [
    {
     "data": {
      "text/plain": [
       "OFF    0.000000\n",
       "SWY    0.051682\n",
       "ERI    0.069692\n",
       "ANO    0.108215\n",
       "AVE    0.108504\n",
       "Name: OFF, dtype: float64"
      ]
     },
     "execution_count": 11,
     "metadata": {},
     "output_type": "execute_result"
    }
   ],
   "source": [
    "exp[\"OFF\"].sort_values().iloc[:5]"
   ]
  },
  {
   "cell_type": "code",
   "execution_count": 13,
   "id": "c7dedad2",
   "metadata": {},
   "outputs": [
    {
     "data": {
      "text/plain": [
       "OKO    0.000000\n",
       "PCS    0.066946\n",
       "TUN    0.090866\n",
       "SFV    0.112862\n",
       "SVR    0.124013\n",
       "MEL    0.128075\n",
       "MFI    0.132326\n",
       "IMF    0.139774\n",
       "PCR    0.143294\n",
       "CGF    0.145372\n",
       "Name: OKO, dtype: float64"
      ]
     },
     "execution_count": 13,
     "metadata": {},
     "output_type": "execute_result"
    }
   ],
   "source": [
    "exp[\"OKO\"].sort_values().iloc[:10]"
   ]
  },
  {
   "cell_type": "code",
   "execution_count": 14,
   "id": "34896786",
   "metadata": {},
   "outputs": [
    {
     "data": {
      "text/plain": [
       "UTL    0.000000\n",
       "EWS    0.090169\n",
       "BOG    0.123787\n",
       "IMF    0.124882\n",
       "EWT    0.126343\n",
       "CSV    0.127610\n",
       "ITG    0.128313\n",
       "IWW    0.134052\n",
       "STF    0.142959\n",
       "UOV    0.144305\n",
       "Name: UTL, dtype: float64"
      ]
     },
     "execution_count": 14,
     "metadata": {},
     "output_type": "execute_result"
    }
   ],
   "source": [
    "exp[\"UTL\"].sort_values().iloc[:10]"
   ]
  },
  {
   "cell_type": "code",
   "execution_count": 15,
   "id": "8cd33ea9",
   "metadata": {},
   "outputs": [
    {
     "data": {
      "text/plain": [
       "APC    0.000000\n",
       "LIO    0.146678\n",
       "UEI    0.147512\n",
       "MAR    0.160954\n",
       "TOL    0.167944\n",
       "VNI    0.187846\n",
       "APD    0.190191\n",
       "AWO    0.192849\n",
       "ESV    0.199872\n",
       "GIU    0.202846\n",
       "Name: APC, dtype: float64"
      ]
     },
     "execution_count": 15,
     "metadata": {},
     "output_type": "execute_result"
    }
   ],
   "source": [
    "exp[\"APC\"].sort_values().iloc[:10]"
   ]
  },
  {
   "cell_type": "code",
   "execution_count": 25,
   "id": "6cf5c5c0",
   "metadata": {},
   "outputs": [
    {
     "data": {
      "text/plain": [
       "LIO    0.000000\n",
       "TOL    0.092928\n",
       "MAR    0.098001\n",
       "GIU    0.114743\n",
       "UEI    0.133707\n",
       "FAR    0.141049\n",
       "AFG    0.145773\n",
       "APC    0.146678\n",
       "YUG    0.155157\n",
       "VNI    0.159099\n",
       "Name: LIO, dtype: float64"
      ]
     },
     "execution_count": 25,
     "metadata": {},
     "output_type": "execute_result"
    }
   ],
   "source": [
    "exp[\"LIO\"].sort_values().iloc[:10]"
   ]
  },
  {
   "cell_type": "code",
   "execution_count": 16,
   "id": "df78f3a1",
   "metadata": {
    "scrolled": true
   },
   "outputs": [
    {
     "data": {
      "text/plain": [
       "CAN    0.000000\n",
       "GIU    0.097936\n",
       "AFG    0.113423\n",
       "FAR    0.128417\n",
       "LOS    0.185316\n",
       "APD    0.207084\n",
       "ABW    0.208078\n",
       "LTN    0.208372\n",
       "SAT    0.210973\n",
       "UEI    0.211700\n",
       "Name: CAN, dtype: float64"
      ]
     },
     "execution_count": 16,
     "metadata": {},
     "output_type": "execute_result"
    }
   ],
   "source": [
    "exp[\"CAN\"].sort_values().iloc[:10]"
   ]
  },
  {
   "cell_type": "code",
   "execution_count": 17,
   "id": "14ae6f99",
   "metadata": {},
   "outputs": [
    {
     "data": {
      "text/plain": [
       "GME    0.000000\n",
       "SFW    0.058260\n",
       "AFX    0.104965\n",
       "AFV    0.114988\n",
       "AFT    0.128133\n",
       "KFI    0.140239\n",
       "LEV    0.145003\n",
       "AEI    0.167100\n",
       "SAS    0.168704\n",
       "AFS    0.169986\n",
       "Name: GME, dtype: float64"
      ]
     },
     "execution_count": 17,
     "metadata": {},
     "output_type": "execute_result"
    }
   ],
   "source": [
    "exp[\"GME\"].sort_values().iloc[:10]"
   ]
  },
  {
   "cell_type": "code",
   "execution_count": 18,
   "id": "9e312059",
   "metadata": {},
   "outputs": [
    {
     "data": {
      "text/plain": [
       "AFI    0.000000\n",
       "TON    0.178618\n",
       "CAS    0.190916\n",
       "SFG    0.195694\n",
       "OSI    0.201680\n",
       "SSY    0.206298\n",
       "EEI    0.206905\n",
       "SFE    0.211819\n",
       "CFI    0.214521\n",
       "MTT    0.216705\n",
       "Name: AFI, dtype: float64"
      ]
     },
     "execution_count": 18,
     "metadata": {},
     "output_type": "execute_result"
    }
   ],
   "source": [
    "exp[\"AFI\"].sort_values().iloc[:10]"
   ]
  },
  {
   "cell_type": "code",
   "execution_count": 23,
   "id": "71f033b4",
   "metadata": {},
   "outputs": [
    {
     "data": {
      "text/plain": [
       "GIU    0.000000\n",
       "FAR    0.066529\n",
       "AFG    0.071524\n",
       "CAN    0.097936\n",
       "LTN    0.110436\n",
       "LIO    0.114743\n",
       "VNI    0.146832\n",
       "AWW    0.148632\n",
       "TOL    0.152759\n",
       "ESV    0.167450\n",
       "SAT    0.168587\n",
       "UEI    0.170707\n",
       "MAR    0.174213\n",
       "LOS    0.174597\n",
       "MEP    0.182302\n",
       "Name: GIU, dtype: float64"
      ]
     },
     "execution_count": 23,
     "metadata": {},
     "output_type": "execute_result"
    }
   ],
   "source": [
    "exp[\"GIU\"].sort_values().iloc[:15]"
   ]
  },
  {
   "cell_type": "code",
   "execution_count": 20,
   "id": "2c2f8477",
   "metadata": {},
   "outputs": [
    {
     "data": {
      "text/plain": [
       "MEP    0.000000\n",
       "DOH    0.156923\n",
       "MTN    0.175010\n",
       "GIU    0.182302\n",
       "AFG    0.191226\n",
       "FAR    0.210262\n",
       "ABW    0.234091\n",
       "YUG    0.238838\n",
       "CAN    0.246724\n",
       "APC    0.252604\n",
       "Name: MEP, dtype: float64"
      ]
     },
     "execution_count": 20,
     "metadata": {},
     "output_type": "execute_result"
    }
   ],
   "source": [
    "exp[\"MEP\"].sort_values().iloc[:10]"
   ]
  }
 ],
 "metadata": {
  "kernelspec": {
   "display_name": "zeo",
   "language": "python",
   "name": "zeo"
  },
  "language_info": {
   "codemirror_mode": {
    "name": "ipython",
    "version": 3
   },
   "file_extension": ".py",
   "mimetype": "text/x-python",
   "name": "python",
   "nbconvert_exporter": "python",
   "pygments_lexer": "ipython3",
   "version": "3.9.13"
  }
 },
 "nbformat": 4,
 "nbformat_minor": 5
}
