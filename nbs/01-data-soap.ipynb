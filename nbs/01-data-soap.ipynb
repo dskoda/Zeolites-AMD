{
 "cells": [
  {
   "cell_type": "markdown",
   "id": "6fb8f3e9",
   "metadata": {},
   "source": [
    "# Calculating SOAP descriptors for zeolites\n",
    "\n",
    "In this notebook, we will calculate the SOAP descriptors for IZA zeolites using the package `dscribe`."
   ]
  },
  {
   "cell_type": "code",
   "execution_count": 1,
   "id": "e4848479",
   "metadata": {},
   "outputs": [],
   "source": [
    "import os\n",
    "import warnings\n",
    "import pandas as pd\n",
    "import numpy as np\n",
    "from ase.io import read\n",
    "from dscribe.descriptors import SOAP\n",
    "\n",
    "warnings.filterwarnings(\"ignore\")"
   ]
  },
  {
   "cell_type": "markdown",
   "id": "fcc06c1a",
   "metadata": {},
   "source": [
    "## Calculation of the SOAP descriptors"
   ]
  },
  {
   "cell_type": "code",
   "execution_count": 2,
   "id": "00973b93-f033-4ed8-b35a-782706deafcc",
   "metadata": {},
   "outputs": [],
   "source": [
    "species = [\"Si\", \"O\"]\n",
    "r_cut = 6.0\n",
    "n_max = 8\n",
    "l_max = 6\n",
    "\n",
    "# Setting up the SOAP descriptor\n",
    "soap = SOAP(\n",
    "    species=species,\n",
    "    periodic=True,\n",
    "    r_cut=r_cut,\n",
    "    n_max=n_max,\n",
    "    l_max=l_max,\n",
    "    average=\"inner\",\n",
    ")"
   ]
  },
  {
   "cell_type": "code",
   "execution_count": 3,
   "id": "733719b7",
   "metadata": {},
   "outputs": [],
   "source": [
    "path = os.path.abspath('../dsets/iza_experimental')\n",
    "files = sorted([f for f in os.listdir(path) if f.endswith(\".cif\")])\n",
    "\n",
    "zeolites = {}\n",
    "for f in files:\n",
    "    iza = f.strip(\".cif\")\n",
    "    atoms = read(os.path.join(path, f))\n",
    "    zeolites[iza] = atoms"
   ]
  },
  {
   "cell_type": "code",
   "execution_count": 4,
   "id": "0b7fba85-33f7-4b5d-8863-6673c57c4524",
   "metadata": {},
   "outputs": [
    {
     "name": "stdout",
     "output_type": "stream",
     "text": [
      "CPU times: user 6.09 s, sys: 1.9 s, total: 7.99 s\n",
      "Wall time: 5.9 s\n"
     ]
    }
   ],
   "source": [
    "%%time\n",
    "\n",
    "soap_vecs = np.array([\n",
    "    soap.create(atoms) for atoms in zeolites.values()\n",
    "])\n",
    "\n",
    "dotprod = (soap_vecs @ soap_vecs.T)\n",
    "norms = np.diag(dotprod)\n",
    "kernel = dotprod / np.sqrt(norms.reshape(-1, 1) * norms.reshape(1, -1))\n",
    "dm = np.sqrt(2 - 2 * kernel)"
   ]
  },
  {
   "cell_type": "code",
   "execution_count": 5,
   "id": "54d8b925",
   "metadata": {},
   "outputs": [],
   "source": [
    "dm = pd.DataFrame(dm, index=zeolites.keys(), columns=zeolites.keys())"
   ]
  }
 ],
 "metadata": {
  "kernelspec": {
   "display_name": "zeo",
   "language": "python",
   "name": "zeo"
  },
  "language_info": {
   "codemirror_mode": {
    "name": "ipython",
    "version": 3
   },
   "file_extension": ".py",
   "mimetype": "text/x-python",
   "name": "python",
   "nbconvert_exporter": "python",
   "pygments_lexer": "ipython3",
   "version": "3.9.13"
  }
 },
 "nbformat": 4,
 "nbformat_minor": 5
}
