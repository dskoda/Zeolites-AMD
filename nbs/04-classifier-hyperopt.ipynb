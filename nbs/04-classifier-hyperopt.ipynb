{
 "cells": [
  {
   "cell_type": "code",
   "execution_count": 2,
   "id": "78289d8a",
   "metadata": {},
   "outputs": [],
   "source": [
    "import tqdm\n",
    "import random\n",
    "import itertools\n",
    "import numpy as np\n",
    "import pandas as pd\n",
    "from matplotlib import cm\n",
    "import matplotlib.pyplot as plt\n",
    "\n",
    "from zeo_amd.hparams import HyperparameterOptimizer\n",
    "\n",
    "import warnings\n",
    "warnings.filterwarnings('ignore')"
   ]
  },
  {
   "cell_type": "code",
   "execution_count": 3,
   "id": "f68804bb",
   "metadata": {},
   "outputs": [],
   "source": [
    "dm = pd.read_csv(\"../data/iza_dm.csv\", index_col=0)\n",
    "synth = pd.read_csv(\"../data/synthesis_fraction.csv\", index_col=0)\n",
    "synth = synth.loc[dm.index]\n",
    "\n",
    "feat = pd.read_csv(\"../data/iza_features.csv\", index_col=0)"
   ]
  },
  {
   "cell_type": "code",
   "execution_count": 4,
   "id": "f37bab4c",
   "metadata": {},
   "outputs": [],
   "source": [
    "from sklearn.linear_model import LogisticRegression\n",
    "from sklearn.ensemble import RandomForestClassifier\n",
    "from sklearn.svm import SVC\n",
    "import xgboost as xgb\n",
    "\n",
    "classifiers_hyperparameters = [\n",
    "    (LogisticRegression, {\n",
    "        'penalty': ['l2', 'none'],\n",
    "        'C': [0.001, 0.01, 0.1, 1, 10, 100],\n",
    "        'solver': ['lbfgs', 'liblinear', 'sag', 'saga']\n",
    "    }),\n",
    "    (LogisticRegression, {\n",
    "        'penalty': ['l1'],\n",
    "        'C': [0.001, 0.01, 0.1, 1, 10, 100],\n",
    "        'solver': ['saga'],\n",
    "        \"l1_ratio\": [0.25, 0.5, 0.75, 1]\n",
    "    }),\n",
    "    (RandomForestClassifier, {\n",
    "        'n_estimators': [10, 50, 100, 200],\n",
    "        'max_depth': [None, 10, 20, 30],\n",
    "        'min_samples_split': [2, 5, 10],\n",
    "        'min_samples_leaf': [1, 2, 4],\n",
    "        'bootstrap': [True, False]\n",
    "    }),\n",
    "    (SVC, {\n",
    "        'C': [0.1, 1, 10, 100],\n",
    "        'kernel': ['linear', 'poly', 'rbf', 'sigmoid'],\n",
    "        'degree': [2, 3, 4, 5],\n",
    "        'gamma': ['scale', 'auto']\n",
    "    }),\n",
    "    (xgb.XGBClassifier, {\n",
    "        'n_estimators': [50, 100, 200],\n",
    "        'learning_rate': [0.01, 0.1, 0.2],\n",
    "        'max_depth': [3, 4, 5, 6],\n",
    "        'min_child_weight': [1, 2, 3],\n",
    "        'subsample': [0.5, 0.75, 1],\n",
    "        'colsample_bytree': [0.5, 0.75, 1],\n",
    "        \"n_jobs\": [4]\n",
    "    })\n",
    "]"
   ]
  },
  {
   "cell_type": "markdown",
   "id": "cb5d7d6c",
   "metadata": {},
   "source": [
    "## Performing the hyperparameter optimization"
   ]
  },
  {
   "cell_type": "code",
   "execution_count": 5,
   "id": "3b542eeb",
   "metadata": {},
   "outputs": [],
   "source": [
    "LABELS = synth.columns\n",
    "MIN_SYNTHESIS = 0.25\n",
    "MIN_POSITIVE = 11\n",
    "VAL_SIZE = 0.2\n",
    "TEST_SIZE = 0.2\n",
    "N_RUNS = 10\n",
    "RANDOM_SEED = 1886"
   ]
  },
  {
   "cell_type": "code",
   "execution_count": null,
   "id": "c00fb807",
   "metadata": {
    "scrolled": true
   },
   "outputs": [
    {
     "name": "stderr",
     "output_type": "stream",
     "text": [
      "\r",
      "  0%|                                                                                                                                                                                                                         | 0/38 [00:00<?, ?it/s]"
     ]
    }
   ],
   "source": [
    "results = []\n",
    "for _label in tqdm.tqdm(LABELS):\n",
    "    # Get the information for the dataset\n",
    "    X = dm.values\n",
    "    y = (synth[_label] > MIN_SYNTHESIS).values\n",
    "    \n",
    "    n_pos = y.sum()\n",
    "\n",
    "    if n_pos < MIN_POSITIVE:\n",
    "        continue\n",
    "    \n",
    "    for cls, ranges in classifiers_hyperparameters:\n",
    "        opt = HyperparameterOptimizer(\n",
    "            cls,\n",
    "            ranges,\n",
    "            val_size=VAL_SIZE,\n",
    "            test_size=TEST_SIZE,\n",
    "            balanced=True,\n",
    "            random_seed=RANDOM_SEED\n",
    "        )\n",
    "\n",
    "        results += opt.optimize_hyperparameters(X, y, n_runs=10)\n",
    "\n",
    "results_df = pd.DataFrame(results)"
   ]
  },
  {
   "cell_type": "code",
   "execution_count": null,
   "id": "a9c63453",
   "metadata": {},
   "outputs": [],
   "source": []
  }
 ],
 "metadata": {
  "kernelspec": {
   "display_name": "zeo",
   "language": "python",
   "name": "zeo"
  },
  "language_info": {
   "codemirror_mode": {
    "name": "ipython",
    "version": 3
   },
   "file_extension": ".py",
   "mimetype": "text/x-python",
   "name": "python",
   "nbconvert_exporter": "python",
   "pygments_lexer": "ipython3",
   "version": "3.9.13"
  }
 },
 "nbformat": 4,
 "nbformat_minor": 5
}
